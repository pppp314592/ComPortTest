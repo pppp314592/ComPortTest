{
 "cells": [
  {
   "cell_type": "code",
   "execution_count": 11,
   "id": "5cc8b2c1-abd4-49fd-b9cc-02d609c2f327",
   "metadata": {},
   "outputs": [
    {
     "data": {
      "text/plain": [
       "ReadRS232C (generic function with 3 methods)"
      ]
     },
     "metadata": {},
     "output_type": "display_data"
    }
   ],
   "source": [
    "using LibSerialPort\n",
    "\n",
    "function WriteRS232C(txt, portname=\"COM11\", baudrate=115200)\n",
    "    txt *= \"\\n\"\n",
    "    LibSerialPort.open(portname, baudrate) do sp\n",
    "        sleep(0.2)\n",
    "        write(sp, txt)\n",
    "    end\n",
    "    return txt\n",
    "end\n",
    "\n",
    "function ReadRS232C(portname=\"COM11\", baudrate=115200)\n",
    "    txt = \"\"\n",
    "    LibSerialPort.open(portname, baudrate) do sp\n",
    "        sleep(0.2)\n",
    "        bytesavailable(sp) > 0 && (txt = String(read(sp)))\n",
    "    end\n",
    "    return txt\n",
    "end"
   ]
  },
  {
   "cell_type": "code",
   "execution_count": 12,
   "id": "3ce0871e-16c5-44bc-9fa0-a1ed983339ec",
   "metadata": {},
   "outputs": [],
   "source": [
    "portname = \"COM11\"\n",
    "baudrate = 115200\n",
    ";"
   ]
  },
  {
   "cell_type": "code",
   "execution_count": 13,
   "id": "0f9f4ceb-078e-4ef7-9e36-a1ee8ba92e8f",
   "metadata": {},
   "outputs": [
    {
     "data": {
      "text/plain": [
       "\"\""
      ]
     },
     "metadata": {},
     "output_type": "display_data"
    }
   ],
   "source": [
    "ReadRS232C(portname, baudrate)"
   ]
  },
  {
   "cell_type": "code",
   "execution_count": 14,
   "id": "e98afc88-88e1-4fec-b039-f711e50ee716",
   "metadata": {},
   "outputs": [
    {
     "data": {
      "text/plain": [
       "\"test01\""
      ]
     },
     "metadata": {},
     "output_type": "display_data"
    }
   ],
   "source": [
    "str=\"test01\""
   ]
  },
  {
   "cell_type": "code",
   "execution_count": 15,
   "id": "9d314d4a-2aed-452d-bd14-2a8222917e67",
   "metadata": {},
   "outputs": [
    {
     "data": {
      "text/plain": [
       "\"test01\\n\""
      ]
     },
     "metadata": {},
     "output_type": "display_data"
    }
   ],
   "source": [
    "WriteRS232C(str, portname, baudrate)"
   ]
  }
 ],
 "metadata": {
  "kernelspec": {
   "display_name": "Julia 1.11.6",
   "language": "julia",
   "name": "julia-1.11"
  },
  "language_info": {
   "file_extension": ".jl",
   "mimetype": "application/julia",
   "name": "julia",
   "version": "1.11.6"
  }
 },
 "nbformat": 4,
 "nbformat_minor": 5
}
